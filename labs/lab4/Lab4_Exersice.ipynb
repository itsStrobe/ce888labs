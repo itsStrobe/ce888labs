{
 "cells": [
  {
   "cell_type": "markdown",
   "metadata": {},
   "source": [
    "# Lab 4 Activity"
   ]
  },
  {
   "cell_type": "code",
   "execution_count": 1,
   "metadata": {},
   "outputs": [],
   "source": [
    "import pandas as pd\n",
    "import numpy as np\n",
    "from random import randrange\n",
    "from IPython.display import Image\n",
    "np.set_printoptions(precision = 3)"
   ]
  },
  {
   "cell_type": "markdown",
   "metadata": {},
   "source": [
    "## Load Data"
   ]
  },
  {
   "cell_type": "code",
   "execution_count": 2,
   "metadata": {},
   "outputs": [],
   "source": [
    "data_pd = pd.read_csv(\"jester-data-1.csv\", index_col=False, usecols=range(1, 101))\n",
    "d = data_pd.to_latex()\n",
    "text_file = open(\"Output_jester.txt\", \"w\")\n",
    "text_file.write(d)\n",
    "text_file.close()"
   ]
  },
  {
   "cell_type": "markdown",
   "metadata": {},
   "source": [
    "## Pre-processing"
   ]
  },
  {
   "cell_type": "code",
   "execution_count": 3,
   "metadata": {},
   "outputs": [],
   "source": [
    "data = data_pd.values\n",
    "train_set = data.copy()\n",
    "val_examples = []\n",
    "\n",
    "for i in range(int(data.size*0.1)):\n",
    "    x = randrange(data.shape[0])\n",
    "    y = randrange(data.shape[1])\n",
    "    while data[x, y] == 99 or (x, y) in val_examples:\n",
    "        x = randrange(data.shape[0])\n",
    "        y = randrange(data.shape[1])\n",
    "    val_examples.append((x, y))\n",
    "    train_set[x, y] = 99"
   ]
  },
  {
   "cell_type": "markdown",
   "metadata": {},
   "source": [
    "## Initialize Preferences and Features"
   ]
  },
  {
   "cell_type": "code",
   "execution_count": 4,
   "metadata": {},
   "outputs": [],
   "source": [
    "n_features = 2\n",
    "\n",
    "latent_user_preferences = np.random.random((train_set.shape[0], n_features))\n",
    "latent_item_features = np.random.random((train_set.shape[1],n_features))"
   ]
  },
  {
   "cell_type": "markdown",
   "metadata": {},
   "source": [
    "## Recommender System"
   ]
  },
  {
   "cell_type": "code",
   "execution_count": 5,
   "metadata": {},
   "outputs": [],
   "source": [
    "def predict_rating(user_id,item_id):\n",
    "    \"\"\" Predict a rating given a user_id and an item_id.\n",
    "    \"\"\"\n",
    "    user_preference = latent_user_preferences[user_id]\n",
    "    item_preference = latent_item_features[item_id]\n",
    "    return user_preference.dot(item_preference)\n",
    "\n",
    "def train(user_id, item_id, rating,alpha = 0.0001):\n",
    "    \n",
    "    #print item_id\n",
    "    prediction_rating = predict_rating(user_id, item_id)\n",
    "    err =  ( prediction_rating- rating );\n",
    "    #print err\n",
    "    user_pref_values = latent_user_preferences[user_id][:]\n",
    "    latent_user_preferences[user_id] -= alpha * err * latent_item_features[item_id]\n",
    "    latent_item_features[item_id] -= alpha * err * user_pref_values\n",
    "    return err\n",
    "    \n",
    "\n",
    "\n",
    "def sgd(ratings, iterations = 300000):\n",
    "    \"\"\" Iterate over all users and all items and train for \n",
    "        a certain number of iterations\n",
    "    \"\"\"\n",
    "    for iteration in range(0,iterations):\n",
    "        error = []\n",
    "        for user_id in range(0,latent_user_preferences.shape[0]):\n",
    "            for item_id in range(0,latent_item_features.shape[0]):\n",
    "                rating = ratings[user_id][item_id]\n",
    "                if(rating != 99):\n",
    "                    err = train(user_id,item_id,rating)\n",
    "                    error.append(err)\n",
    "        mse = (np.array(error) ** 2).mean()\n",
    "        if(iteration%1000 == 0 ):\n",
    "            print(mse)\n"
   ]
  },
  {
   "cell_type": "markdown",
   "metadata": {},
   "source": [
    "## Train"
   ]
  },
  {
   "cell_type": "code",
   "execution_count": null,
   "metadata": {},
   "outputs": [
    {
     "name": "stdout",
     "output_type": "stream",
     "text": [
      "26.27700301721421\n"
     ]
    }
   ],
   "source": [
    "sgd(train_set, iterations=10000)"
   ]
  },
  {
   "cell_type": "markdown",
   "metadata": {},
   "source": [
    "## Perform Predictions"
   ]
  },
  {
   "cell_type": "code",
   "execution_count": null,
   "metadata": {},
   "outputs": [],
   "source": [
    "predictions = latent_user_preferences.dot(latent_item_features.T)"
   ]
  },
  {
   "cell_type": "markdown",
   "metadata": {},
   "source": [
    "## Performance Measures"
   ]
  },
  {
   "cell_type": "code",
   "execution_count": null,
   "metadata": {},
   "outputs": [],
   "source": [
    "error = []\n",
    "\n",
    "for (x, y) in val_examples:\n",
    "    err = data[x, y] - predictions[x, y]\n",
    "    error.append(err)\n",
    "    \n",
    "mse = (np.array(error) ** 2).mean()\n",
    "\n",
    "print(\"Algorithm MSE:\", mse)"
   ]
  },
  {
   "cell_type": "code",
   "execution_count": null,
   "metadata": {},
   "outputs": [],
   "source": []
  }
 ],
 "metadata": {
  "kernelspec": {
   "display_name": "Python 3",
   "language": "python",
   "name": "python3"
  },
  "language_info": {
   "codemirror_mode": {
    "name": "ipython",
    "version": 3
   },
   "file_extension": ".py",
   "mimetype": "text/x-python",
   "name": "python",
   "nbconvert_exporter": "python",
   "pygments_lexer": "ipython3",
   "version": "3.6.5"
  }
 },
 "nbformat": 4,
 "nbformat_minor": 2
}
